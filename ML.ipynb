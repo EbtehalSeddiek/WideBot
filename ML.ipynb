{
  "nbformat": 4,
  "nbformat_minor": 0,
  "metadata": {
    "colab": {
      "name": "ML.ipynb",
      "provenance": [],
      "collapsed_sections": [],
      "mount_file_id": "126VMB1adUlxYhQeVzZl9oLRxCmVm6wxg",
      "authorship_tag": "ABX9TyNpgDIRbdFqSfJW2fOuNpMs",
      "include_colab_link": true
    },
    "kernelspec": {
      "name": "python3",
      "display_name": "Python 3"
    }
  },
  "cells": [
    {
      "cell_type": "markdown",
      "metadata": {
        "id": "view-in-github",
        "colab_type": "text"
      },
      "source": [
        "<a href=\"https://colab.research.google.com/github/EbtehalSeddiek/WideBot/blob/master/ML.ipynb\" target=\"_parent\"><img src=\"https://colab.research.google.com/assets/colab-badge.svg\" alt=\"Open In Colab\"/></a>"
      ]
    },
    {
      "cell_type": "code",
      "metadata": {
        "id": "trUJfo0VilKP",
        "colab_type": "code",
        "colab": {}
      },
      "source": [
        "import pandas as pd\n",
        "import numpy as np\n",
        "import matplotlib.pyplot as plt\n",
        "from sklearn.model_selection import train_test_split\n",
        "from sklearn.metrics import r2_score,mean_absolute_error\n",
        "from sklearn.linear_model import LinearRegression\n",
        "from sklearn.preprocessing import *\n"
      ],
      "execution_count": 6,
      "outputs": []
    },
    {
      "cell_type": "code",
      "metadata": {
        "id": "7D2A_xdujfKK",
        "colab_type": "code",
        "colab": {
          "base_uri": "https://localhost:8080/",
          "height": 36
        },
        "outputId": "f34f6709-dc65-445b-cb9d-a99b60ad0a4a"
      },
      "source": [
        "mv "
      ],
      "execution_count": 5,
      "outputs": [
        {
          "output_type": "execute_result",
          "data": {
            "application/vnd.google.colaboratory.intrinsic+json": {
              "type": "string"
            },
            "text/plain": [
              "'/content'"
            ]
          },
          "metadata": {
            "tags": []
          },
          "execution_count": 5
        }
      ]
    },
    {
      "cell_type": "code",
      "metadata": {
        "id": "cYlxb0sbjyfF",
        "colab_type": "code",
        "colab": {
          "base_uri": "https://localhost:8080/",
          "height": 1000
        },
        "outputId": "b57d0560-8d25-491d-eac0-77ee03417063"
      },
      "source": [
        "def transform(x_train , x_test , method = ' ' , degree = 2):\n",
        "    \n",
        "    if method == 'log':\n",
        "        train_tmp = np.log(x_train)\n",
        "        test_tmp = np.log(x_test)\n",
        "        \n",
        "        train_tmp[train_tmp == float('-inf')] = 0\n",
        "        test_tmp[test_tmp == float('-inf')] = 0\n",
        "        \n",
        "        return train_tmp , test_tmp\n",
        "    \n",
        "    elif method == 'exp':\n",
        "        return np.exp(x_train) , np.exp(x_test)\n",
        "    \n",
        "    elif method == 'poly':\n",
        "        poly = PolynomialFeatures(degree)\n",
        "        return poly.fit_transform(x_train) , poly.fit_transform(x_test)\n",
        "    \n",
        "    elif method == 'power':\n",
        "        pt = PowerTransformer()\n",
        "        pt.fit(x_train)\n",
        "        tmp = pt.transform(x_train)\n",
        "        \n",
        "        pt.fit(x_test)\n",
        "        \n",
        "        return tmp , pt.transform(x_test)\n",
        "    \n",
        "    elif method == 'logistic':\n",
        "        return 1 / (1 + np.exp(x_train)) , 1 / (1 + np.exp(x_test))\n",
        "    \n",
        "    else :\n",
        "        return x_train , x_test\n",
        "\n",
        "def solve(x_train , x_test , y_train , y_test , method = ' ' , degree = 2):\n",
        "   \n",
        "    model = LinearRegression()\n",
        "    x_train , x_test = transform(x_train , x_test , method , degree)\n",
        "    \n",
        "    model_data = model.fit(x_train, y_train)\n",
        "    Predicted = model.predict(x_test)\n",
        "    \n",
        "    mean_error = mean_absolute_error(y_test, Predicted)\n",
        "    print(\"\\n--------Results for the \" , method , \" Regression------------\")\n",
        "    print(\"Training set score for \" , method , \" regression is \" ,  \"{:.2f}\".format(model_data.score(x_train, y_train)))\n",
        "    print(\"Test set score for \" , method , \" regression is \" ,  \"{:.2f}\".format(model_data.score(x_test, y_test)))\n",
        "    print(\"The mean standard deviation of the errors for the test data \" , method , \" regression is \" ,  \"{:.2f}\".format(mean_error))\n",
        "    print(\"--------------------------------------------------------------\")\n",
        "\n",
        "def read():\n",
        "    df = pd.read_csv(\"/content/drive/My Drive/Colab Notebooks/validation.csv\", delimiter= ';',decimal=\",\")\n",
        "    \n",
        "    \n",
        "    i = np.array([j for j in range (df.shape[0])])\n",
        "    y = pd.read_csv(\"/content/drive/My Drive/Colab Notebooks/validation.csv\", delimiter= ';',decimal=\",\")\n",
        "    df.replace(('yes.', 'no.'), (1, 0), inplace=True)\n",
        "    y.replace(('yes.', 'no.'), (1, 0), inplace=True)\n",
        "\n",
        "    df.replace(('t', 'f'), (True, False), inplace=True)\n",
        "    y.replace(('t', 'f'), (True, False), inplace=True)\n",
        "\n",
        "    df.replace(('a', 'b'), (1, 0), inplace=True)\n",
        "    y.replace(('a', 'b'), (1, 0), inplace=True)\n",
        "\n",
        "    df.dropna(inplace=True)\n",
        "    y.dropna(inplace=True)\n",
        "\n",
        "    #I don't what they stand for\n",
        "    df.drop(['variable4','variable5','variable6','variable7','variable13','variable19'],axis=1,inplace=True)\n",
        "    y.drop(['variable4','variable5','variable6','variable7','variable13','variable19'],axis=1,inplace=True)\n",
        "\n",
        "    X_train, X_test,y_train,y_test = train_test_split(df,y,train_size=.8, random_state=0)\n",
        "    return X_train , X_test , y_train , y_test\n",
        "\n",
        "def outliers_modified_z_score(ys):\n",
        "    threshold = 1.4\n",
        "\n",
        "    median_y = np.median(ys)\n",
        "    median_absolute_deviation_y = np.median([np.abs(y - median_y) for y in ys])\n",
        "    modified_z_scores = [0.6745 * (y - median_y) / median_absolute_deviation_y\n",
        "                         for y in ys]\n",
        "    return np.where(np.abs(modified_z_scores) > threshold)\n",
        "\n",
        "\n",
        "\n",
        "X_train , X_test , y_train , y_test = read()\n",
        "\n",
        "solve(X_train , X_test , y_train , y_test , method = 'linear')\n",
        "solve(X_train , X_test , y_train , y_test , method = 'poly' , degree = 2)\n",
        "solve(X_train , X_test , y_train , y_test , method = 'poly' , degree = 3)\n",
        "solve(X_train , X_test , y_train , y_test , method = 'power')\n",
        "\n",
        "y = np.append(y_train , y_test)\n",
        "\n",
        "z_score = outliers_modified_z_score(y)\n",
        "\n",
        "print(z_score)\n",
        "\n"
      ],
      "execution_count": 17,
      "outputs": [
        {
          "output_type": "stream",
          "text": [
            "\n",
            "--------Results for the  linear  Regression------------\n",
            "Training set score for  linear  regression is  1.00\n",
            "Test set score for  linear  regression is  1.00\n",
            "The mean standard deviation of the errors for the test data  linear  regression is  0.00\n",
            "--------------------------------------------------------------\n",
            "\n",
            "--------Results for the  poly  Regression------------\n",
            "Training set score for  poly  regression is  1.00\n",
            "Test set score for  poly  regression is  1.00\n",
            "The mean standard deviation of the errors for the test data  poly  regression is  0.01\n",
            "--------------------------------------------------------------\n",
            "\n",
            "--------Results for the  poly  Regression------------\n",
            "Training set score for  poly  regression is  1.00\n",
            "Test set score for  poly  regression is  0.72\n",
            "The mean standard deviation of the errors for the test data  poly  regression is  32960.24\n",
            "--------------------------------------------------------------\n",
            "\n",
            "--------Results for the  power  Regression------------\n",
            "Training set score for  power  regression is  0.99\n",
            "Test set score for  power  regression is  0.77\n",
            "The mean standard deviation of the errors for the test data  power  regression is  31917.49\n",
            "--------------------------------------------------------------\n",
            "(array([   1,    8,    9,   10,   14,   21,   23,   27,   32,   34,   35,\n",
            "         36,   40,   42,   45,   47,   48,   49,   53,   60,   61,   62,\n",
            "         66,   79,   81,   86,   88,   92,   99,  100,  101,  105,  112,\n",
            "        113,  114,  118,  123,  125,  126,  127,  131,  138,  139,  140,\n",
            "        144,  151,  153,  157,  159,  165,  170,  175,  177,  178,  179,\n",
            "        183,  190,  192,  196,  203,  205,  209,  222,  229,  231,  235,\n",
            "        242,  243,  244,  248,  255,  257,  261,  266,  268,  270,  274,\n",
            "        281,  283,  287,  294,  296,  300,  305,  307,  308,  309,  313,\n",
            "        315,  320,  322,  326,  333,  334,  335,  339,  346,  348,  352,\n",
            "        359,  360,  361,  365,  372,  373,  374,  378,  385,  387,  391,\n",
            "        399,  404,  406,  411,  413,  417,  424,  425,  426,  430,  432,\n",
            "        438,  443,  445,  448,  451,  456,  463,  465,  469,  474,  477,\n",
            "        482,  484,  489,  490,  491,  495,  497,  502,  504,  508,  515,\n",
            "        517,  521,  523,  528,  530,  534,  541,  543,  547,  554,  556,\n",
            "        560,  562,  565,  573,  580,  582,  586,  593,  594,  595,  599,\n",
            "        604,  606,  608,  612,  614,  617,  619,  620,  621,  625,  632,\n",
            "        634,  638,  643,  646,  651,  656,  658,  659,  660,  664,  671,\n",
            "        672,  673,  677,  684,  686,  690,  692,  695,  697,  699,  703,\n",
            "        705,  710,  711,  712,  716,  723,  725,  729,  731,  736,  738,\n",
            "        742,  749,  750,  751,  755,  762,  764,  768,  775,  777,  781,\n",
            "        783,  786,  789,  794,  802,  807,  814,  815,  816,  820,  827,\n",
            "        829,  833,  840,  842,  846,  848,  851,  853,  855,  859,  866,\n",
            "        867,  868,  872,  879,  881,  885,  892,  893,  894,  898,  900,\n",
            "        905,  907,  911,  913,  916,  918,  919,  920,  924,  931,  932,\n",
            "        933,  937,  944,  946,  950,  957,  958,  959,  963,  971,  976,\n",
            "        981,  983,  984,  985,  989,  996,  998, 1002, 1009, 1010, 1011,\n",
            "       1015, 1022, 1024, 1028, 1035, 1037, 1041, 1046, 1048, 1049, 1050,\n",
            "       1054, 1059, 1061, 1062, 1063, 1067, 1074, 1075, 1076, 1080, 1082,\n",
            "       1085, 1088]),)\n"
          ],
          "name": "stdout"
        },
        {
          "output_type": "stream",
          "text": [
            "/usr/local/lib/python3.6/dist-packages/sklearn/base.py:434: FutureWarning: The default value of multioutput (not exposed in score method) will change from 'variance_weighted' to 'uniform_average' in 0.23 to keep consistent with 'metrics.r2_score'. To specify the default value manually and avoid the warning, please either call 'metrics.r2_score' directly or make a custom scorer with 'metrics.make_scorer' (the built-in scorer 'r2' uses multioutput='uniform_average').\n",
            "  \"multioutput='uniform_average').\", FutureWarning)\n",
            "/usr/local/lib/python3.6/dist-packages/sklearn/base.py:434: FutureWarning: The default value of multioutput (not exposed in score method) will change from 'variance_weighted' to 'uniform_average' in 0.23 to keep consistent with 'metrics.r2_score'. To specify the default value manually and avoid the warning, please either call 'metrics.r2_score' directly or make a custom scorer with 'metrics.make_scorer' (the built-in scorer 'r2' uses multioutput='uniform_average').\n",
            "  \"multioutput='uniform_average').\", FutureWarning)\n",
            "/usr/local/lib/python3.6/dist-packages/sklearn/base.py:434: FutureWarning: The default value of multioutput (not exposed in score method) will change from 'variance_weighted' to 'uniform_average' in 0.23 to keep consistent with 'metrics.r2_score'. To specify the default value manually and avoid the warning, please either call 'metrics.r2_score' directly or make a custom scorer with 'metrics.make_scorer' (the built-in scorer 'r2' uses multioutput='uniform_average').\n",
            "  \"multioutput='uniform_average').\", FutureWarning)\n",
            "/usr/local/lib/python3.6/dist-packages/sklearn/base.py:434: FutureWarning: The default value of multioutput (not exposed in score method) will change from 'variance_weighted' to 'uniform_average' in 0.23 to keep consistent with 'metrics.r2_score'. To specify the default value manually and avoid the warning, please either call 'metrics.r2_score' directly or make a custom scorer with 'metrics.make_scorer' (the built-in scorer 'r2' uses multioutput='uniform_average').\n",
            "  \"multioutput='uniform_average').\", FutureWarning)\n",
            "/usr/local/lib/python3.6/dist-packages/sklearn/base.py:434: FutureWarning: The default value of multioutput (not exposed in score method) will change from 'variance_weighted' to 'uniform_average' in 0.23 to keep consistent with 'metrics.r2_score'. To specify the default value manually and avoid the warning, please either call 'metrics.r2_score' directly or make a custom scorer with 'metrics.make_scorer' (the built-in scorer 'r2' uses multioutput='uniform_average').\n",
            "  \"multioutput='uniform_average').\", FutureWarning)\n",
            "/usr/local/lib/python3.6/dist-packages/sklearn/base.py:434: FutureWarning: The default value of multioutput (not exposed in score method) will change from 'variance_weighted' to 'uniform_average' in 0.23 to keep consistent with 'metrics.r2_score'. To specify the default value manually and avoid the warning, please either call 'metrics.r2_score' directly or make a custom scorer with 'metrics.make_scorer' (the built-in scorer 'r2' uses multioutput='uniform_average').\n",
            "  \"multioutput='uniform_average').\", FutureWarning)\n",
            "/usr/local/lib/python3.6/dist-packages/sklearn/base.py:434: FutureWarning: The default value of multioutput (not exposed in score method) will change from 'variance_weighted' to 'uniform_average' in 0.23 to keep consistent with 'metrics.r2_score'. To specify the default value manually and avoid the warning, please either call 'metrics.r2_score' directly or make a custom scorer with 'metrics.make_scorer' (the built-in scorer 'r2' uses multioutput='uniform_average').\n",
            "  \"multioutput='uniform_average').\", FutureWarning)\n",
            "/usr/local/lib/python3.6/dist-packages/sklearn/base.py:434: FutureWarning: The default value of multioutput (not exposed in score method) will change from 'variance_weighted' to 'uniform_average' in 0.23 to keep consistent with 'metrics.r2_score'. To specify the default value manually and avoid the warning, please either call 'metrics.r2_score' directly or make a custom scorer with 'metrics.make_scorer' (the built-in scorer 'r2' uses multioutput='uniform_average').\n",
            "  \"multioutput='uniform_average').\", FutureWarning)\n"
          ],
          "name": "stderr"
        }
      ]
    },
    {
      "cell_type": "code",
      "metadata": {
        "id": "vFlfT5SNlMTR",
        "colab_type": "code",
        "colab": {}
      },
      "source": [
        ""
      ],
      "execution_count": null,
      "outputs": []
    },
    {
      "cell_type": "code",
      "metadata": {
        "id": "5L1XQy5Ij93w",
        "colab_type": "code",
        "colab": {
          "base_uri": "https://localhost:8080/",
          "height": 289
        },
        "outputId": "71fe863c-866d-4fa6-e2f0-b7e820f0d29b"
      },
      "source": [
        "\n",
        "plt.scatter(X_train,y_train)\n",
        "plt.show()"
      ],
      "execution_count": 19,
      "outputs": [
        {
          "output_type": "display_data",
          "data": {
            "image/png": "[encoded data removed]",
            "text/plain": [
              "<Figure size 432x288 with 1 Axes>"
            ]
          },
          "metadata": {
            "tags": [],
            "needs_background": "light"
          }
        }
      ]
    }
  ]
}